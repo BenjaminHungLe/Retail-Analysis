{
 "cells": [
  {
   "cell_type": "code",
   "execution_count": 1,
   "metadata": {},
   "outputs": [],
   "source": [
    "import csv"
   ]
  },
  {
   "cell_type": "markdown",
   "metadata": {},
   "source": [
    "### Calculate number of unique order_customer_id"
   ]
  },
  {
   "cell_type": "code",
   "execution_count": 2,
   "metadata": {},
   "outputs": [],
   "source": [
    "file_order = 'orders1.csv'\n",
    "order_data = 'orders_data.csv'\n",
    "\n",
    "\n",
    "order = open(file_order, 'r', encoding=\"utf-8\")    \n",
    "data = open(order_data, 'w', encoding=\"utf-8\")     \n",
    "\n",
    "\n",
    "for z in order:               \n",
    "    data.write(z)\n",
    "        \n",
    "order.close()\n",
    "data.close()\n"
   ]
  },
  {
   "cell_type": "code",
   "execution_count": 3,
   "metadata": {
    "scrolled": true
   },
   "outputs": [
    {
     "data": {
      "text/plain": [
       "<function TextIOWrapper.close()>"
      ]
     },
     "execution_count": 3,
     "metadata": {},
     "output_type": "execute_result"
    }
   ],
   "source": [
    "f = open('orders_data.csv', 'r', encoding=\"utf-8\")      # open the file for read\n",
    "\n",
    "for line in f:               # read into memory one line at a time, will never run out of memory!!!\n",
    "    line_list = line.lower().split('\\t')\n",
    "    header = line_list[-1].strip()\n",
    "    \n",
    "f.close"
   ]
  },
  {
   "cell_type": "code",
   "execution_count": 4,
   "metadata": {},
   "outputs": [],
   "source": [
    "f = open('orders1.csv', 'r', encoding='utf-8')\n",
    "\n",
    "data = []\n",
    "for line in f:\n",
    "    line_list = line.lower().split('\\t')\n",
    "    data.append(line_list)\n",
    "\n",
    "customer_list = []\n",
    "for row in data:\n",
    "    customer_id = row[2]\n",
    "    customer_list.append(customer_id)\n",
    "\n",
    "unique_customer = len(set(customer_list))\n",
    "unique_customer\n",
    "\n",
    "f.close()"
   ]
  },
  {
   "cell_type": "markdown",
   "metadata": {},
   "source": [
    "## QUESTION 2: Calculate number of orders by order_status"
   ]
  },
  {
   "cell_type": "code",
   "execution_count": 5,
   "metadata": {},
   "outputs": [
    {
     "data": {
      "text/plain": [
       "12406"
      ]
     },
     "execution_count": 5,
     "metadata": {},
     "output_type": "execute_result"
    }
   ],
   "source": [
    "unique_customer"
   ]
  },
  {
   "cell_type": "code",
   "execution_count": 6,
   "metadata": {},
   "outputs": [
    {
     "data": {
      "text/plain": [
       "[['\"order_id\"', '\"order_date\"', '\"order_customer_id\"', '\"order_status\"\\n'],\n",
       " ['1', '\"2013-07-25 00:00:00\"', '11599', '\"closed\"\\n'],\n",
       " ['2', '\"2013-07-25 00:00:00\"', '256', '\"pending_payment\"\\n']]"
      ]
     },
     "execution_count": 6,
     "metadata": {},
     "output_type": "execute_result"
    }
   ],
   "source": [
    "data[:3]"
   ]
  },
  {
   "cell_type": "code",
   "execution_count": 7,
   "metadata": {},
   "outputs": [],
   "source": [
    "order_status = []\n",
    "for line in data:\n",
    "    order = line[3].split('\\n')[0]\n",
    "    order_status.append(order)\n",
    "from collections import Counter\n",
    "\n",
    "c = Counter(order_status)\n",
    "c\n",
    "f.close()"
   ]
  },
  {
   "cell_type": "code",
   "execution_count": 8,
   "metadata": {},
   "outputs": [
    {
     "data": {
      "text/plain": [
       "Counter({'\"order_status\"': 1,\n",
       "         '\"closed\"': 7556,\n",
       "         '\"pending_payment\"': 15030,\n",
       "         '\"complete\"': 22899,\n",
       "         '\"processing\"': 8275,\n",
       "         '\"payment_review\"': 729,\n",
       "         '\"pending\"': 7610,\n",
       "         '\"on_hold\"': 3798,\n",
       "         '\"canceled\"': 1428,\n",
       "         '\"suspected_fraud\"': 1558})"
      ]
     },
     "execution_count": 8,
     "metadata": {},
     "output_type": "execute_result"
    }
   ],
   "source": [
    "c"
   ]
  },
  {
   "cell_type": "markdown",
   "metadata": {},
   "source": [
    "## Calculate number of orders that have multiple order\n"
   ]
  },
  {
   "cell_type": "code",
   "execution_count": 9,
   "metadata": {},
   "outputs": [],
   "source": [
    "i = open('order_items.csv', 'r', encoding='utf-8')\n",
    "\n",
    "item_data = [line.lower().split('\\t') for line in i]"
   ]
  },
  {
   "cell_type": "code",
   "execution_count": 10,
   "metadata": {},
   "outputs": [
    {
     "name": "stdout",
     "output_type": "stream",
     "text": [
      "114767\n"
     ]
    }
   ],
   "source": [
    "lst = [[line[1],line[2]] for line in item_data]\n",
    "lst\n",
    "unique =[]\n",
    "multi = []\n",
    "for x in lst:\n",
    "    if x[0] not in unique:\n",
    "        unique.append(x[0])\n",
    "    else:\n",
    "        multi.append(x[0])\n",
    "print(len(multi))"
   ]
  },
  {
   "cell_type": "markdown",
   "metadata": {},
   "source": [
    "## Find the most expensive product"
   ]
  },
  {
   "cell_type": "code",
   "execution_count": 11,
   "metadata": {
    "scrolled": true
   },
   "outputs": [],
   "source": [
    "p = open('products.csv', 'r', encoding='utf-8')\n",
    "\n",
    "product_data = [line.lower().split('\\t') for line in p]\n",
    "product_data\n",
    "price_list = [line[4] for line in product_data]\n",
    "price_list.sort(reverse=True)\n"
   ]
  },
  {
   "cell_type": "code",
   "execution_count": 12,
   "metadata": {},
   "outputs": [
    {
     "name": "stdout",
     "output_type": "stream",
     "text": [
      "\"product_price\"\n"
     ]
    }
   ],
   "source": [
    "print(price_list[-1])"
   ]
  },
  {
   "cell_type": "code",
   "execution_count": 13,
   "metadata": {},
   "outputs": [
    {
     "data": {
      "text/plain": [
       "1346"
      ]
     },
     "execution_count": 13,
     "metadata": {},
     "output_type": "execute_result"
    }
   ],
   "source": [
    "len(price_list)"
   ]
  },
  {
   "cell_type": "code",
   "execution_count": 14,
   "metadata": {
    "scrolled": true
   },
   "outputs": [
    {
     "data": {
      "text/plain": [
       "True"
      ]
     },
     "execution_count": 14,
     "metadata": {},
     "output_type": "execute_result"
    }
   ],
   "source": [
    "product_data[(4)][4] > product_data[(5+1)][4]"
   ]
  },
  {
   "cell_type": "markdown",
   "metadata": {},
   "source": [
    "## Calculate the number of products that have product description"
   ]
  },
  {
   "cell_type": "code",
   "execution_count": 15,
   "metadata": {},
   "outputs": [
    {
     "data": {
      "text/plain": [
       "[['\"product_id\"',\n",
       "  '\"product_category_id\"',\n",
       "  '\"product_name\"',\n",
       "  '\"product_description\"',\n",
       "  '\"product_price\"',\n",
       "  '\"product_image\"\\n'],\n",
       " ['1',\n",
       "  '2',\n",
       "  '\"quest q64 10 ft. x 10 ft. slant leg instant u\"',\n",
       "  '\"\"',\n",
       "  '59.98',\n",
       "  '\"http://images.acmesports.sports/quest+q64+10+ft.+x+10+ft.+slant+leg+instant+up+canopy\"\\n'],\n",
       " ['2',\n",
       "  '2',\n",
       "  '\"under armour men\\'s highlight mc football clea\"',\n",
       "  '\"\"',\n",
       "  '129.99',\n",
       "  '\"http://images.acmesports.sports/under+armour+men%27s+highlight+mc+football+cleat\"\\n']]"
      ]
     },
     "execution_count": 15,
     "metadata": {},
     "output_type": "execute_result"
    }
   ],
   "source": [
    "product_data[:3]"
   ]
  },
  {
   "cell_type": "code",
   "execution_count": 16,
   "metadata": {},
   "outputs": [],
   "source": [
    "edited_product_data = []\n",
    "def check_null(lst):\n",
    "    for i in range(1,len(product_data)):\n",
    "        if product_data[i][3] == '\"\"':\n",
    "            return  True\n",
    "        else:\n",
    "            return False"
   ]
  },
  {
   "cell_type": "code",
   "execution_count": 17,
   "metadata": {},
   "outputs": [
    {
     "data": {
      "text/plain": [
       "True"
      ]
     },
     "execution_count": 17,
     "metadata": {},
     "output_type": "execute_result"
    }
   ],
   "source": [
    "check_null(product_data[2])"
   ]
  },
  {
   "cell_type": "code",
   "execution_count": 18,
   "metadata": {},
   "outputs": [
    {
     "data": {
      "text/plain": [
       "['2',\n",
       " '2',\n",
       " '\"under armour men\\'s highlight mc football clea\"',\n",
       " '\"\"',\n",
       " '129.99',\n",
       " '\"http://images.acmesports.sports/under+armour+men%27s+highlight+mc+football+cleat\"\\n']"
      ]
     },
     "execution_count": 18,
     "metadata": {},
     "output_type": "execute_result"
    }
   ],
   "source": [
    "product_data[2]"
   ]
  },
  {
   "cell_type": "code",
   "execution_count": 19,
   "metadata": {},
   "outputs": [
    {
     "data": {
      "text/plain": [
       "1346"
      ]
     },
     "execution_count": 19,
     "metadata": {},
     "output_type": "execute_result"
    }
   ],
   "source": [
    "len(product_data)"
   ]
  },
  {
   "cell_type": "code",
   "execution_count": 20,
   "metadata": {},
   "outputs": [],
   "source": [
    "edited_product_data = [line for line in product_data if check_null(line[3]) is False]"
   ]
  },
  {
   "cell_type": "code",
   "execution_count": 21,
   "metadata": {},
   "outputs": [
    {
     "data": {
      "text/plain": [
       "0"
      ]
     },
     "execution_count": 21,
     "metadata": {},
     "output_type": "execute_result"
    }
   ],
   "source": [
    "len(edited_product_data)"
   ]
  },
  {
   "cell_type": "markdown",
   "metadata": {},
   "source": [
    "## How many product items have dimensions (e.g. 12'x6') in the product name column"
   ]
  },
  {
   "cell_type": "code",
   "execution_count": 22,
   "metadata": {},
   "outputs": [
    {
     "data": {
      "text/plain": [
       "['1',\n",
       " '2',\n",
       " '\"quest q64 10 ft. x 10 ft. slant leg instant u\"',\n",
       " '\"\"',\n",
       " '59.98',\n",
       " '\"http://images.acmesports.sports/quest+q64+10+ft.+x+10+ft.+slant+leg+instant+up+canopy\"\\n']"
      ]
     },
     "execution_count": 22,
     "metadata": {},
     "output_type": "execute_result"
    }
   ],
   "source": [
    "product_data[1]"
   ]
  },
  {
   "cell_type": "code",
   "execution_count": 23,
   "metadata": {},
   "outputs": [
    {
     "name": "stdout",
     "output_type": "stream",
     "text": [
      "Wrong\n"
     ]
    }
   ],
   "source": [
    "import re\n",
    "\n",
    "pattern = '..ft..'\n",
    "string = product_data[1][2]\n",
    "result = re.match(pattern, string)\n",
    "if result:\n",
    "    print('Correct')\n",
    "else:\n",
    "    print('Wrong')\n",
    "    "
   ]
  },
  {
   "cell_type": "code",
   "execution_count": 24,
   "metadata": {},
   "outputs": [
    {
     "data": {
      "text/plain": [
       "True"
      ]
     },
     "execution_count": 24,
     "metadata": {},
     "output_type": "execute_result"
    }
   ],
   "source": [
    "'10 ft. x 10 ft' in product_data[1][2]"
   ]
  },
  {
   "cell_type": "code",
   "execution_count": 25,
   "metadata": {},
   "outputs": [
    {
     "data": {
      "text/plain": [
       "19"
      ]
     },
     "execution_count": 25,
     "metadata": {},
     "output_type": "execute_result"
    }
   ],
   "source": [
    "product_dimen = []\n",
    "for line in product_data:\n",
    "    if 'ft.' in line[2]:\n",
    "        product_dimen.append(line)\n",
    "len(product_dimen)"
   ]
  },
  {
   "cell_type": "markdown",
   "metadata": {},
   "source": [
    "## Calculate number of sales orders generated on Fridays"
   ]
  },
  {
   "cell_type": "code",
   "execution_count": 26,
   "metadata": {},
   "outputs": [
    {
     "data": {
      "text/plain": [
       "'2013-07-26'"
      ]
     },
     "execution_count": 26,
     "metadata": {},
     "output_type": "execute_result"
    }
   ],
   "source": [
    "from datetime import datetime\n",
    "from datetime import date\n",
    "date_str = data[150][1][1:11]\n",
    "date_str"
   ]
  },
  {
   "cell_type": "code",
   "execution_count": 27,
   "metadata": {},
   "outputs": [
    {
     "name": "stdout",
     "output_type": "stream",
     "text": [
      "Friday\n"
     ]
    }
   ],
   "source": [
    "date_object = datetime.strptime(date_str, '%Y-%m-%d')\n",
    "print(date_object.strftime(\"%A\"))"
   ]
  },
  {
   "cell_type": "code",
   "execution_count": 29,
   "metadata": {},
   "outputs": [
    {
     "data": {
      "text/plain": [
       "'2013-08-01 00:00:00'"
      ]
     },
     "execution_count": 29,
     "metadata": {},
     "output_type": "execute_result"
    }
   ],
   "source": [
    "w= data[1400][1].replace('\"','')\n",
    "w"
   ]
  },
  {
   "cell_type": "code",
   "execution_count": 30,
   "metadata": {},
   "outputs": [
    {
     "name": "stdout",
     "output_type": "stream",
     "text": [
      "Thursday\n"
     ]
    }
   ],
   "source": [
    "q= datetime.strptime(w, '%Y-%m-%d %H:%M:%S')\n",
    "print(q.strftime(\"%A\"))"
   ]
  },
  {
   "cell_type": "code",
   "execution_count": 31,
   "metadata": {
    "scrolled": true
   },
   "outputs": [
    {
     "name": "stdout",
     "output_type": "stream",
     "text": [
      "63928591\n"
     ]
    }
   ],
   "source": [
    "sales_of_Friday = []\n",
    "for line in data[1:]:\n",
    "    date_str = line[1].replace('\"','')\n",
    "    date_object = datetime.strptime(date_str,\"%Y-%m-%d %H:%M:%S\")\n",
    "    dayofweek = date_object.strftime(\"%A\")\n",
    "    if dayofweek == 'Friday':\n",
    "        sales_of_Friday.append(line[2])\n",
    "\n",
    "total_sales_Friday = sum(list(map(int,sales_of_Friday)))\n",
    "print(total_sales_Friday)"
   ]
  }
 ],
 "metadata": {
  "kernelspec": {
   "display_name": "Python 3",
   "language": "python",
   "name": "python3"
  },
  "language_info": {
   "codemirror_mode": {
    "name": "ipython",
    "version": 3
   },
   "file_extension": ".py",
   "mimetype": "text/x-python",
   "name": "python",
   "nbconvert_exporter": "python",
   "pygments_lexer": "ipython3",
   "version": "3.7.3"
  }
 },
 "nbformat": 4,
 "nbformat_minor": 2
}
