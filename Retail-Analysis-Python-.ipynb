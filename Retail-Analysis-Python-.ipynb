{
 "cells": [
  {
   "cell_type": "code",
   "execution_count": null,
   "metadata": {},
   "outputs": [],
   "source": [
    "import csv"
   ]
  },
  {
   "cell_type": "markdown",
   "metadata": {},
   "source": [
    "### Calculate number of unique order_customer_id"
   ]
  },
  {
   "cell_type": "code",
   "execution_count": null,
   "metadata": {},
   "outputs": [],
   "source": [
    "file_order = 'orders1.csv'\n",
    "order_data = 'orders_data.csv'\n",
    "\n",
    "\n",
    "order = open(file_order, 'r', encoding=\"utf-8\")    \n",
    "data = open(order_data, 'w', encoding=\"utf-8\")     \n",
    "\n",
    "\n",
    "for z in order:               \n",
    "    data.write(z)\n",
    "        \n",
    "order.close()\n",
    "data.close()\n"
   ]
  },
  {
   "cell_type": "code",
   "execution_count": null,
   "metadata": {
    "scrolled": true
   },
   "outputs": [],
   "source": [
    "f = open('orders_data.csv', 'r', encoding=\"utf-8\")      # open the file for read\n",
    "\n",
    "for line in f:               # read into memory one line at a time, will never run out of memory!!!\n",
    "    line_list = line.lower().split('\\t')\n",
    "    header = line_list[-1].strip()\n",
    "    \n",
    "f.close"
   ]
  },
  {
   "cell_type": "code",
   "execution_count": null,
   "metadata": {},
   "outputs": [],
   "source": [
    "f = open('orders1.csv', 'r', encoding='utf-8')\n",
    "\n",
    "data = []\n",
    "for line in f:\n",
    "    line_list = line.lower().split('\\t')\n",
    "    data.append(line_list)\n",
    "\n",
    "customer_list = []\n",
    "for row in data:\n",
    "    customer_id = row[2]\n",
    "    customer_list.append(customer_id)\n",
    "\n",
    "unique_customer = len(set(customer_list))\n",
    "unique_customer\n",
    "\n",
    "f.close()"
   ]
  },
  {
   "cell_type": "markdown",
   "metadata": {},
   "source": [
    "## QUESTION 2: Calculate number of orders by order_status"
   ]
  },
  {
   "cell_type": "code",
   "execution_count": null,
   "metadata": {},
   "outputs": [],
   "source": [
    "unique_customer"
   ]
  },
  {
   "cell_type": "code",
   "execution_count": null,
   "metadata": {},
   "outputs": [],
   "source": [
    "data[:3]"
   ]
  },
  {
   "cell_type": "code",
   "execution_count": null,
   "metadata": {},
   "outputs": [],
   "source": [
    "order_status = []\n",
    "for line in data:\n",
    "    order = line[3].split('\\n')[0]\n",
    "    order_status.append(order)\n",
    "from collections import Counter\n",
    "\n",
    "c = Counter(order_status)\n",
    "c\n",
    "f.close()"
   ]
  },
  {
   "cell_type": "code",
   "execution_count": null,
   "metadata": {},
   "outputs": [],
   "source": [
    "c"
   ]
  },
  {
   "cell_type": "markdown",
   "metadata": {},
   "source": [
    "## Calculate number of orders that have multiple order\n"
   ]
  },
  {
   "cell_type": "code",
   "execution_count": null,
   "metadata": {},
   "outputs": [],
   "source": [
    "i = open('order_items.csv', 'r', encoding='utf-8')\n",
    "\n",
    "item_data = [line.lower().split('\\t') for line in i]"
   ]
  },
  {
   "cell_type": "code",
   "execution_count": null,
   "metadata": {},
   "outputs": [],
   "source": [
    "lst = [[line[1],line[2]] for line in item_data]\n",
    "lst\n",
    "unique =[]\n",
    "multi = []\n",
    "for x in lst:\n",
    "    if x[0] not in unique:\n",
    "        unique.append(x[0])\n",
    "    else:\n",
    "        multi.append(x[0])\n",
    "print(len(multi))"
   ]
  },
  {
   "cell_type": "markdown",
   "metadata": {},
   "source": [
    "## Find the most expensive product"
   ]
  },
  {
   "cell_type": "code",
   "execution_count": null,
   "metadata": {
    "scrolled": true
   },
   "outputs": [],
   "source": [
    "p = open('products.csv', 'r', encoding='utf-8')\n",
    "\n",
    "product_data = [line.lower().split('\\t') for line in p]\n",
    "product_data\n",
    "price_list = [line[4] for line in product_data]\n",
    "price_list.sort(reverse=True)\n"
   ]
  },
  {
   "cell_type": "code",
   "execution_count": null,
   "metadata": {},
   "outputs": [],
   "source": [
    "print(price_list[-1])"
   ]
  },
  {
   "cell_type": "code",
   "execution_count": null,
   "metadata": {},
   "outputs": [],
   "source": [
    "len(price_list)"
   ]
  },
  {
   "cell_type": "code",
   "execution_count": null,
   "metadata": {
    "scrolled": true
   },
   "outputs": [],
   "source": [
    "product_data[(4)][4] > product_data[(5+1)][4]"
   ]
  },
  {
   "cell_type": "markdown",
   "metadata": {},
   "source": [
    "## Calculate the number of products that have product description"
   ]
  },
  {
   "cell_type": "code",
   "execution_count": null,
   "metadata": {},
   "outputs": [],
   "source": [
    "product_data[:3]"
   ]
  },
  {
   "cell_type": "code",
   "execution_count": null,
   "metadata": {},
   "outputs": [],
   "source": [
    "edited_product_data = []\n",
    "def check_null(lst):\n",
    "    for i in range(1,len(product_data)):\n",
    "        if product_data[i][3] == '\"\"':\n",
    "            return  True\n",
    "        else:\n",
    "            return False"
   ]
  },
  {
   "cell_type": "code",
   "execution_count": null,
   "metadata": {},
   "outputs": [],
   "source": [
    "check_null(product_data[2])"
   ]
  },
  {
   "cell_type": "code",
   "execution_count": null,
   "metadata": {},
   "outputs": [],
   "source": [
    "product_data[2]"
   ]
  },
  {
   "cell_type": "code",
   "execution_count": null,
   "metadata": {},
   "outputs": [],
   "source": [
    "len(product_data)"
   ]
  },
  {
   "cell_type": "code",
   "execution_count": null,
   "metadata": {},
   "outputs": [],
   "source": [
    "edited_product_data = [line for line in product_data if check_null(line[3]) is False]"
   ]
  },
  {
   "cell_type": "code",
   "execution_count": null,
   "metadata": {},
   "outputs": [],
   "source": [
    "len(edited_product_data)"
   ]
  },
  {
   "cell_type": "markdown",
   "metadata": {},
   "source": [
    "## How many product items have dimensions (e.g. 12'x6') in the product name column"
   ]
  },
  {
   "cell_type": "code",
   "execution_count": null,
   "metadata": {},
   "outputs": [],
   "source": [
    "product_data[1]"
   ]
  },
  {
   "cell_type": "code",
   "execution_count": null,
   "metadata": {},
   "outputs": [],
   "source": [
    "import re\n",
    "\n",
    "pattern = '..ft..'\n",
    "string = product_data[1][2]\n",
    "result = re.match(pattern, string)\n",
    "if result:\n",
    "    print('Correct')\n",
    "else:\n",
    "    print('Wrong')\n",
    "    "
   ]
  },
  {
   "cell_type": "code",
   "execution_count": null,
   "metadata": {},
   "outputs": [],
   "source": [
    "'10 ft. x 10 ft' in product_data[1][2]"
   ]
  },
  {
   "cell_type": "code",
   "execution_count": null,
   "metadata": {},
   "outputs": [],
   "source": [
    "product_dimen = []\n",
    "for line in product_data:\n",
    "    if 'ft.' in line[2]:\n",
    "        product_dimen.append(line)\n",
    "len(product_dimen)"
   ]
  },
  {
   "cell_type": "markdown",
   "metadata": {},
   "source": [
    "## Calculate number of sales orders generated on Fridays"
   ]
  },
  {
   "cell_type": "code",
   "execution_count": null,
   "metadata": {},
   "outputs": [],
   "source": [
    "from datetime import datetime\n",
    "from datetime import date\n",
    "date_str = data[150][1][1:11]\n",
    "date_str"
   ]
  },
  {
   "cell_type": "code",
   "execution_count": null,
   "metadata": {},
   "outputs": [],
   "source": [
    "date_object = datetime.strptime(date_str, '%Y-%m-%d')\n",
    "print(date_object.strftime(\"%A\"))"
   ]
  },
  {
   "cell_type": "code",
   "execution_count": null,
   "metadata": {},
   "outputs": [],
   "source": [
    "= data[1400][1].replace('\"','')\n",
    "w"
   ]
  },
  {
   "cell_type": "code",
   "execution_count": null,
   "metadata": {},
   "outputs": [],
   "source": [
    "q= datetime.strptime(w, '%Y-%m-%d %H:%M:%S')\n",
    "print(q.strftime(\"%A\"))"
   ]
  },
  {
   "cell_type": "code",
   "execution_count": null,
   "metadata": {
    "scrolled": true
   },
   "outputs": [],
   "source": [
    "sales_of_Friday = []\n",
    "for line in data[1:]:\n",
    "    date_str = line[1].replace('\"','')\n",
    "    date_object = datetime.strptime(date_str,\"%Y-%m-%d %H:%M:%S\")\n",
    "    dayofweek = date_object.strftime(\"%A\")\n",
    "    if dayofweek == 'Friday':\n",
    "        sales_of_Friday.append(line[2])\n",
    "\n",
    "total_sales_Friday = sum(list(map(int,sales_of_Friday)))\n",
    "print(total_sales_Friday)"
   ]
  },
  {
   "cell_type": "code",
   "execution_count": null,
   "metadata": {},
   "outputs": [],
   "source": [
    "sales = sum(list(map(int,sales_of_Friday)))\n",
    "sales"
   ]
  },
  {
   "cell_type": "code",
   "execution_count": null,
   "metadata": {},
   "outputs": [],
   "source": []
  }
 ],
 "metadata": {
  "kernelspec": {
   "display_name": "Python 3",
   "language": "python",
   "name": "python3"
  },
  "language_info": {
   "codemirror_mode": {
    "name": "ipython",
    "version": 3
   },
   "file_extension": ".py",
   "mimetype": "text/x-python",
   "name": "python",
   "nbconvert_exporter": "python",
   "pygments_lexer": "ipython3",
   "version": "3.7.3"
  }
 },
 "nbformat": 4,
 "nbformat_minor": 2
}
